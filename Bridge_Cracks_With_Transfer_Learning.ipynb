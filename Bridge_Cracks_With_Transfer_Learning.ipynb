{
  "cells": [
    {
      "cell_type": "code",
      "execution_count": 1,
      "id": "d9534005",
      "metadata": {
        "id": "d9534005"
      },
      "outputs": [],
      "source": [
        "import tensorflow as tf\n",
        "from keras.layers import Dense,Flatten\n",
        "from keras.models import Model\n",
        "from keras.applications import MobileNetV3Large,VGG16\n",
        "from keras.preprocessing.image import ImageDataGenerator"
      ]
    },
    {
      "cell_type": "code",
      "source": [
        "from google.colab import drive\n",
        "drive.mount('/content/drive')"
      ],
      "metadata": {
        "colab": {
          "base_uri": "https://localhost:8080/"
        },
        "id": "XG9-RoymWz4d",
        "outputId": "7fb5a0de-650f-4e82-c9ed-c4d8188368a2"
      },
      "id": "XG9-RoymWz4d",
      "execution_count": 2,
      "outputs": [
        {
          "output_type": "stream",
          "name": "stdout",
          "text": [
            "Mounted at /content/drive\n"
          ]
        }
      ]
    },
    {
      "cell_type": "code",
      "execution_count": 3,
      "id": "b301d925",
      "metadata": {
        "id": "b301d925"
      },
      "outputs": [],
      "source": [
        "from glob import glob\n",
        "import numpy as np\n",
        "import matplotlib.pyplot as plt\n",
        "from sklearn.metrics import confusion_matrix, classification_report"
      ]
    },
    {
      "cell_type": "code",
      "execution_count": 4,
      "id": "4d40db43",
      "metadata": {
        "id": "4d40db43"
      },
      "outputs": [],
      "source": [
        "## Resize all the images\n",
        "IMAGE_SIZE = [224,224]"
      ]
    },
    {
      "cell_type": "code",
      "execution_count": 5,
      "id": "1b79d7a7",
      "metadata": {
        "id": "1b79d7a7"
      },
      "outputs": [],
      "source": [
        "train_path = \"/content/drive/MyDrive/Datasets/Projects/Bridge_Cracks_Detection/train\"\n",
        "valid_path = \"/content/drive/MyDrive/Datasets/Projects/Bridge_Cracks_Detection/valid\"\n",
        "test_path =  \"/content/drive/MyDrive/Datasets/Projects/Bridge_Cracks_Detection/test\""
      ]
    },
    {
      "cell_type": "code",
      "execution_count": 6,
      "id": "410adbe1",
      "metadata": {
        "colab": {
          "base_uri": "https://localhost:8080/"
        },
        "id": "410adbe1",
        "outputId": "b65172ab-7027-49cb-b5d4-69fd421b2e1c"
      },
      "outputs": [
        {
          "output_type": "stream",
          "name": "stdout",
          "text": [
            "Downloading data from https://storage.googleapis.com/tensorflow/keras-applications/vgg16/vgg16_weights_tf_dim_ordering_tf_kernels_notop.h5\n",
            "58889256/58889256 [==============================] - 2s 0us/step\n"
          ]
        }
      ],
      "source": [
        "## Add Preprocessing to the front\n",
        "vgg16 = VGG16(input_shape=IMAGE_SIZE + [3],weights='imagenet',include_top=False)"
      ]
    },
    {
      "cell_type": "code",
      "execution_count": 7,
      "id": "2e543be9",
      "metadata": {
        "id": "2e543be9"
      },
      "outputs": [],
      "source": [
        "## Don't train existing weights\n",
        "for layer in vgg16.layers:\n",
        "    layer.trainable=False"
      ]
    },
    {
      "cell_type": "code",
      "execution_count": 8,
      "id": "bbc2086b",
      "metadata": {
        "colab": {
          "base_uri": "https://localhost:8080/"
        },
        "id": "bbc2086b",
        "outputId": "a246a7d0-8dc8-4c76-fc8e-adcd033f75d2"
      },
      "outputs": [
        {
          "output_type": "stream",
          "name": "stdout",
          "text": [
            "['/content/drive/MyDrive/Datasets/Projects/Bridge_Cracks_Detection/train/Positive', '/content/drive/MyDrive/Datasets/Projects/Bridge_Cracks_Detection/train/Negative'] 2\n"
          ]
        }
      ],
      "source": [
        "## Getting Number of Classes\n",
        "folders = glob(\"/content/drive/MyDrive/Datasets/Projects/Bridge_Cracks_Detection/train/*\")\n",
        "print(folders,len(folders))"
      ]
    },
    {
      "cell_type": "code",
      "execution_count": 9,
      "id": "fead71b9",
      "metadata": {
        "id": "fead71b9"
      },
      "outputs": [],
      "source": [
        "## Add layer\n",
        "x = Flatten()(vgg16.output)\n",
        "pred = Dense(2,activation='softmax')(x)"
      ]
    },
    {
      "cell_type": "code",
      "execution_count": 10,
      "id": "23df646a",
      "metadata": {
        "id": "23df646a"
      },
      "outputs": [],
      "source": [
        "## Create a model object\n",
        "model = Model(inputs=vgg16.input , outputs=pred)"
      ]
    },
    {
      "cell_type": "code",
      "execution_count": 11,
      "id": "c8999e40",
      "metadata": {
        "id": "c8999e40"
      },
      "outputs": [],
      "source": [
        "## Let's compile our model\n",
        "model.compile(optimizer='adam',\n",
        "             loss='categorical_crossentropy',\n",
        "             metrics=['accuracy'])"
      ]
    },
    {
      "cell_type": "code",
      "execution_count": 12,
      "id": "48ba6353",
      "metadata": {
        "colab": {
          "base_uri": "https://localhost:8080/"
        },
        "id": "48ba6353",
        "outputId": "6011c848-73ae-426d-e845-b6d6361d3420"
      },
      "outputs": [
        {
          "output_type": "stream",
          "name": "stdout",
          "text": [
            "Model: \"model\"\n",
            "_________________________________________________________________\n",
            " Layer (type)                Output Shape              Param #   \n",
            "=================================================================\n",
            " input_1 (InputLayer)        [(None, 224, 224, 3)]     0         \n",
            "                                                                 \n",
            " block1_conv1 (Conv2D)       (None, 224, 224, 64)      1792      \n",
            "                                                                 \n",
            " block1_conv2 (Conv2D)       (None, 224, 224, 64)      36928     \n",
            "                                                                 \n",
            " block1_pool (MaxPooling2D)  (None, 112, 112, 64)      0         \n",
            "                                                                 \n",
            " block2_conv1 (Conv2D)       (None, 112, 112, 128)     73856     \n",
            "                                                                 \n",
            " block2_conv2 (Conv2D)       (None, 112, 112, 128)     147584    \n",
            "                                                                 \n",
            " block2_pool (MaxPooling2D)  (None, 56, 56, 128)       0         \n",
            "                                                                 \n",
            " block3_conv1 (Conv2D)       (None, 56, 56, 256)       295168    \n",
            "                                                                 \n",
            " block3_conv2 (Conv2D)       (None, 56, 56, 256)       590080    \n",
            "                                                                 \n",
            " block3_conv3 (Conv2D)       (None, 56, 56, 256)       590080    \n",
            "                                                                 \n",
            " block3_pool (MaxPooling2D)  (None, 28, 28, 256)       0         \n",
            "                                                                 \n",
            " block4_conv1 (Conv2D)       (None, 28, 28, 512)       1180160   \n",
            "                                                                 \n",
            " block4_conv2 (Conv2D)       (None, 28, 28, 512)       2359808   \n",
            "                                                                 \n",
            " block4_conv3 (Conv2D)       (None, 28, 28, 512)       2359808   \n",
            "                                                                 \n",
            " block4_pool (MaxPooling2D)  (None, 14, 14, 512)       0         \n",
            "                                                                 \n",
            " block5_conv1 (Conv2D)       (None, 14, 14, 512)       2359808   \n",
            "                                                                 \n",
            " block5_conv2 (Conv2D)       (None, 14, 14, 512)       2359808   \n",
            "                                                                 \n",
            " block5_conv3 (Conv2D)       (None, 14, 14, 512)       2359808   \n",
            "                                                                 \n",
            " block5_pool (MaxPooling2D)  (None, 7, 7, 512)         0         \n",
            "                                                                 \n",
            " flatten (Flatten)           (None, 25088)             0         \n",
            "                                                                 \n",
            " dense (Dense)               (None, 2)                 50178     \n",
            "                                                                 \n",
            "=================================================================\n",
            "Total params: 14,764,866\n",
            "Trainable params: 50,178\n",
            "Non-trainable params: 14,714,688\n",
            "_________________________________________________________________\n"
          ]
        }
      ],
      "source": [
        "## View the structure of model\n",
        "model.summary()"
      ]
    },
    {
      "cell_type": "code",
      "execution_count": 13,
      "id": "ff452f56",
      "metadata": {
        "id": "ff452f56"
      },
      "outputs": [],
      "source": [
        "train_datagen = ImageDataGenerator(rescale=1./255,\n",
        "                                  shear_range=0.2,\n",
        "                                  zoom_range=0.2,\n",
        "                                  horizontal_flip=True,\n",
        "                                  vertical_flip=True,\n",
        "                                  )\n",
        "\n",
        "\n",
        "valid_datagen = ImageDataGenerator(rescale=1./255)\n",
        "\n",
        "test_datagen = ImageDataGenerator(rescale=1./255)"
      ]
    },
    {
      "cell_type": "code",
      "execution_count": 14,
      "id": "7235a267",
      "metadata": {
        "colab": {
          "base_uri": "https://localhost:8080/"
        },
        "id": "7235a267",
        "outputId": "328770bc-4065-4328-c0f0-52cadf5f3bc4"
      },
      "outputs": [
        {
          "output_type": "stream",
          "name": "stdout",
          "text": [
            "Found 600 images belonging to 2 classes.\n",
            "Found 200 images belonging to 2 classes.\n",
            "Found 200 images belonging to 2 classes.\n"
          ]
        }
      ],
      "source": [
        "train_set = train_datagen.flow_from_directory(train_path,\n",
        "                                             batch_size=32,\n",
        "                                             target_size = (224,224),\n",
        "                                             class_mode='categorical')\n",
        "\n",
        "valid_set = valid_datagen.flow_from_directory(valid_path,\n",
        "                                             batch_size=32,\n",
        "                                             target_size=(224,224),\n",
        "                                             class_mode='categorical')\n",
        "\n",
        "test_set = test_datagen.flow_from_directory(test_path,\n",
        "                                           batch_size=32,\n",
        "                                           target_size=(224,224),\n",
        "                                           class_mode='categorical')"
      ]
    },
    {
      "cell_type": "code",
      "execution_count": 15,
      "id": "5f0bf3ed",
      "metadata": {
        "colab": {
          "base_uri": "https://localhost:8080/"
        },
        "id": "5f0bf3ed",
        "outputId": "afd83765-96d5-4071-f309-87e2ac454fa9"
      },
      "outputs": [
        {
          "output_type": "stream",
          "name": "stdout",
          "text": [
            "Epoch 1/100\n",
            "19/19 [==============================] - 266s 14s/step - loss: 0.7940 - accuracy: 0.6750 - val_loss: 0.5451 - val_accuracy: 0.7150\n",
            "Epoch 2/100\n",
            "19/19 [==============================] - 10s 499ms/step - loss: 0.2756 - accuracy: 0.8883 - val_loss: 0.2795 - val_accuracy: 0.8600\n",
            "Epoch 3/100\n",
            "19/19 [==============================] - 9s 494ms/step - loss: 0.2793 - accuracy: 0.8817 - val_loss: 0.3819 - val_accuracy: 0.8300\n",
            "Epoch 4/100\n",
            "19/19 [==============================] - 9s 493ms/step - loss: 0.1897 - accuracy: 0.9283 - val_loss: 0.3453 - val_accuracy: 0.8500\n",
            "Epoch 5/100\n",
            "19/19 [==============================] - 10s 500ms/step - loss: 0.1615 - accuracy: 0.9400 - val_loss: 0.1887 - val_accuracy: 0.9150\n",
            "Epoch 6/100\n",
            "19/19 [==============================] - 10s 505ms/step - loss: 0.1369 - accuracy: 0.9617 - val_loss: 0.1701 - val_accuracy: 0.9200\n",
            "Epoch 7/100\n",
            "19/19 [==============================] - 10s 498ms/step - loss: 0.1332 - accuracy: 0.9517 - val_loss: 0.2816 - val_accuracy: 0.8850\n",
            "Epoch 8/100\n",
            "19/19 [==============================] - 10s 501ms/step - loss: 0.1418 - accuracy: 0.9450 - val_loss: 0.1459 - val_accuracy: 0.9350\n",
            "Epoch 9/100\n",
            "19/19 [==============================] - 10s 504ms/step - loss: 0.1187 - accuracy: 0.9567 - val_loss: 0.3114 - val_accuracy: 0.8650\n",
            "Epoch 10/100\n",
            "19/19 [==============================] - 9s 492ms/step - loss: 0.0972 - accuracy: 0.9600 - val_loss: 0.1720 - val_accuracy: 0.9300\n",
            "Epoch 11/100\n",
            "19/19 [==============================] - 10s 513ms/step - loss: 0.1172 - accuracy: 0.9617 - val_loss: 0.1974 - val_accuracy: 0.9100\n"
          ]
        }
      ],
      "source": [
        "## Fit the Model\n",
        "result = model.fit(train_set,\n",
        "                   validation_data=valid_set,\n",
        "                   epochs=100,\n",
        "                   steps_per_epoch=len(train_set),\n",
        "                   validation_steps=len(valid_set),\n",
        "                   callbacks=[\n",
        "                        tf.keras.callbacks.EarlyStopping(\n",
        "            monitor='val_loss',\n",
        "            patience=3,\n",
        "            restore_best_weights=True\n",
        "        )\n",
        "                   ]\n",
        "                    )"
      ]
    },
    {
      "cell_type": "code",
      "execution_count": 16,
      "id": "10b4cc17",
      "metadata": {
        "colab": {
          "base_uri": "https://localhost:8080/",
          "height": 265
        },
        "id": "10b4cc17",
        "outputId": "a4a437b8-9a59-44fa-eb23-981e67483ce1"
      },
      "outputs": [
        {
          "output_type": "display_data",
          "data": {
            "text/plain": [
              "<Figure size 432x288 with 1 Axes>"
            ],
            "image/png": "[encoded data removed]"
          },
          "metadata": {
            "needs_background": "light"
          }
        }
      ],
      "source": [
        "# loss\n",
        "plt.plot(result.history['loss'], label='train loss')\n",
        "plt.plot(result.history['val_loss'], label='val loss')\n",
        "plt.legend()\n",
        "plt.show()"
      ]
    },
    {
      "cell_type": "code",
      "source": [
        "# accuracies\n",
        "plt.plot(result.history['accuracy'], label='train acc')\n",
        "plt.plot(result.history['val_accuracy'], label='val acc')\n",
        "plt.legend()\n",
        "plt.show()\n",
        " "
      ],
      "metadata": {
        "colab": {
          "base_uri": "https://localhost:8080/",
          "height": 265
        },
        "id": "Lm-8ZbVwcdZC",
        "outputId": "a6ea3e34-a5f7-4a08-aaa4-df469dde0cc6"
      },
      "id": "Lm-8ZbVwcdZC",
      "execution_count": 17,
      "outputs": [
        {
          "output_type": "display_data",
          "data": {
            "text/plain": [
              "<Figure size 432x288 with 1 Axes>"
            ],
            "image/png": "[encoded data removed]"
          },
          "metadata": {
            "needs_background": "light"
          }
        }
      ]
    },
    {
      "cell_type": "code",
      "source": [
        "model.save('Bridge_model.h5')"
      ],
      "metadata": {
        "id": "jPfu-PG8cmio"
      },
      "id": "jPfu-PG8cmio",
      "execution_count": 18,
      "outputs": []
    },
    {
      "cell_type": "code",
      "source": [
        "results = model.evaluate(test_set, verbose=0)\n",
        "loss = results[0]\n",
        "acc = results[1]\n",
        "\n",
        "print(\"    Test Loss: {:.5f}\".format(loss))\n",
        "print(\"Test Accuracy: {:.2f}%\".format(acc * 100))"
      ],
      "metadata": {
        "colab": {
          "base_uri": "https://localhost:8080/"
        },
        "id": "FcOxbQOXgbyf",
        "outputId": "15b9da4d-5fa7-48cf-8fc1-9b87d18adb78"
      },
      "id": "FcOxbQOXgbyf",
      "execution_count": 19,
      "outputs": [
        {
          "output_type": "stream",
          "name": "stdout",
          "text": [
            "    Test Loss: 0.05666\n",
            "Test Accuracy: 99.00%\n"
          ]
        }
      ]
    },
    {
      "cell_type": "code",
      "source": [
        "Y_pred = model.predict(test_set)\n",
        "y_pred = np.argmax(Y_pred, axis=1)\n",
        "\n",
        "cm = confusion_matrix(test_set.classes, y_pred)\n",
        "print(cm)"
      ],
      "metadata": {
        "colab": {
          "base_uri": "https://localhost:8080/"
        },
        "id": "HZq8WFx0MN-O",
        "outputId": "1c445c85-8478-44f1-dcf5-a907d907fd1b"
      },
      "id": "HZq8WFx0MN-O",
      "execution_count": 20,
      "outputs": [
        {
          "output_type": "stream",
          "name": "stdout",
          "text": [
            "7/7 [==============================] - 1s 161ms/step\n",
            "[[54 46]\n",
            " [48 52]]\n"
          ]
        }
      ]
    },
    {
      "cell_type": "code",
      "source": [
        "clr = classification_report(test_set.classes, y_pred, target_names=[\"NEGATIVE\", \"POSITIVE\"])\n",
        "print(clr)"
      ],
      "metadata": {
        "colab": {
          "base_uri": "https://localhost:8080/"
        },
        "id": "-ZWlnC9WPVlV",
        "outputId": "ec961f7d-3a40-4f85-bbfb-f544cc16eaa1"
      },
      "id": "-ZWlnC9WPVlV",
      "execution_count": 21,
      "outputs": [
        {
          "output_type": "stream",
          "name": "stdout",
          "text": [
            "              precision    recall  f1-score   support\n",
            "\n",
            "    NEGATIVE       0.53      0.54      0.53       100\n",
            "    POSITIVE       0.53      0.52      0.53       100\n",
            "\n",
            "    accuracy                           0.53       200\n",
            "   macro avg       0.53      0.53      0.53       200\n",
            "weighted avg       0.53      0.53      0.53       200\n",
            "\n"
          ]
        }
      ]
    },
    {
      "cell_type": "code",
      "source": [],
      "metadata": {
        "id": "j-s1xeX3e_vm"
      },
      "id": "j-s1xeX3e_vm",
      "execution_count": 21,
      "outputs": []
    }
  ],
  "metadata": {
    "kernelspec": {
      "display_name": "Python 3 (ipykernel)",
      "language": "python",
      "name": "python3"
    },
    "language_info": {
      "codemirror_mode": {
        "name": "ipython",
        "version": 3
      },
      "file_extension": ".py",
      "mimetype": "text/x-python",
      "name": "python",
      "nbconvert_exporter": "python",
      "pygments_lexer": "ipython3",
      "version": "3.9.13"
    },
    "colab": {
      "provenance": []
    },
    "gpuClass": "standard",
    "accelerator": "GPU"
  },
  "nbformat": 4,
  "nbformat_minor": 5
}