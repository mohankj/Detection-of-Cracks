{
  "metadata": {
    "kernelspec": {
      "language": "python",
      "display_name": "Python 3",
      "name": "python3"
    },
    "language_info": {
      "pygments_lexer": "ipython3",
      "nbconvert_exporter": "python",
      "version": "3.6.4",
      "file_extension": ".py",
      "codemirror_mode": {
        "name": "ipython",
        "version": 3
      },
      "name": "python",
      "mimetype": "text/x-python"
    },
    "colab": {
      "provenance": []
    },
    "accelerator": "GPU",
    "gpuClass": "standard"
  },
  "nbformat_minor": 0,
  "nbformat": 4,
  "cells": [
    {
      "cell_type": "code",
      "source": [
        "from google.colab import drive\n",
        "drive.mount('/content/drive')"
      ],
      "metadata": {
        "colab": {
          "base_uri": "https://localhost:8080/"
        },
        "id": "EVMosY2vpXDV",
        "outputId": "36d154c3-c09d-49b3-ee3b-324251ad836e"
      },
      "execution_count": 54,
      "outputs": [
        {
          "output_type": "stream",
          "name": "stdout",
          "text": [
            "Drive already mounted at /content/drive; to attempt to forcibly remount, call drive.mount(\"/content/drive\", force_remount=True).\n"
          ]
        }
      ]
    },
    {
      "cell_type": "markdown",
      "source": [
        "# Getting Started"
      ],
      "metadata": {
        "id": "sQ8DGSFipVLa"
      }
    },
    {
      "cell_type": "code",
      "source": [
        "import numpy as np\n",
        "import pandas as pd\n",
        "import matplotlib.pyplot as plt\n",
        "import seaborn as sns\n",
        "import plotly.express as px\n",
        "\n",
        "from pathlib import Path\n",
        "import tensorflow as tf\n",
        "\n",
        "from sklearn.metrics import confusion_matrix, classification_report"
      ],
      "metadata": {
        "execution": {
          "iopub.status.busy": "2022-10-22T09:10:51.037669Z",
          "iopub.execute_input": "2022-10-22T09:10:51.038436Z",
          "iopub.status.idle": "2022-10-22T09:11:05.701076Z",
          "shell.execute_reply.started": "2022-10-22T09:10:51.038339Z",
          "shell.execute_reply": "2022-10-22T09:11:05.69995Z"
        },
        "trusted": true,
        "id": "nQIUguR9pVLb"
      },
      "execution_count": 55,
      "outputs": []
    },
    {
      "cell_type": "code",
      "source": [
        "from sklearn.utils.fixes import sklearn\n",
        "print(tf.__version__)\n",
        "print(tf.keras.__version__)\n",
        "print(np.__version__)\n",
        "print(pd.__version__)\n",
        "\n",
        "print(sklearn.__version__)"
      ],
      "metadata": {
        "colab": {
          "base_uri": "https://localhost:8080/"
        },
        "id": "p_hEM_2LzSaF",
        "outputId": "7e104594-a159-482f-fd16-091fce2c5746"
      },
      "execution_count": 75,
      "outputs": [
        {
          "output_type": "stream",
          "name": "stdout",
          "text": [
            "2.9.2\n",
            "2.9.0\n",
            "1.21.6\n",
            "1.3.5\n",
            "1.0.2\n"
          ]
        }
      ]
    },
    {
      "cell_type": "code",
      "source": [
        "# Turn the directory paths into Path object\n",
        "train_dir_pos = Path('/content/drive/MyDrive/Datasets/Projects/Bridge_Cracks_Detection/train/Positive')\n",
        "train_dir_neg = Path('/content/drive/MyDrive/Datasets/Projects/Bridge_Cracks_Detection/train/Negative')\n",
        "\n",
        "test_dir_pos = Path('/content/drive/MyDrive/Datasets/Projects/Bridge_Cracks_Detection/test/Positive')\n",
        "test_dir_neg = Path('/content/drive/MyDrive/Datasets/Projects/Bridge_Cracks_Detection/test/Negative')\n",
        "\n",
        "valid_dir_pos = Path('/content/drive/MyDrive/Datasets/Projects/Bridge_Cracks_Detection/valid/Positive')\n",
        "valid_dir_neg = Path('/content/drive/MyDrive/Datasets/Projects/Bridge_Cracks_Detection/valid/Negative')"
      ],
      "metadata": {
        "execution": {
          "iopub.status.busy": "2022-10-22T09:11:05.703368Z",
          "iopub.execute_input": "2022-10-22T09:11:05.704032Z",
          "iopub.status.idle": "2022-10-22T09:11:05.711999Z",
          "shell.execute_reply.started": "2022-10-22T09:11:05.703991Z",
          "shell.execute_reply": "2022-10-22T09:11:05.709217Z"
        },
        "trusted": true,
        "id": "pQJWE4ljpVLc"
      },
      "execution_count": 56,
      "outputs": []
    },
    {
      "cell_type": "markdown",
      "source": [
        "# Create DataFrame"
      ],
      "metadata": {
        "id": "G8MAoAnQpVLc"
      }
    },
    {
      "cell_type": "markdown",
      "source": [
        "Let's create a DataFrame containing the path of the image and the associated label. This will permit to flow the images from it."
      ],
      "metadata": {
        "id": "xMHqJR5npVLd"
      }
    },
    {
      "cell_type": "code",
      "source": [
        "def generate_df(image_dir, label):\n",
        "    \"\"\"\n",
        "    Create the DataFrame of the associated directory and label.\n",
        "    \"\"\"\n",
        "    \n",
        "    filepaths = pd.Series(list(image_dir.glob(r'*.jpg')), name='Filepath').astype(str)\n",
        "    labels = pd.Series(label, name='Label', index=filepaths.index)\n",
        "    df = pd.concat([filepaths, labels], axis=1)\n",
        "    \n",
        "    return df"
      ],
      "metadata": {
        "execution": {
          "iopub.status.busy": "2022-10-22T09:11:05.713843Z",
          "iopub.execute_input": "2022-10-22T09:11:05.714186Z",
          "iopub.status.idle": "2022-10-22T09:11:05.724108Z",
          "shell.execute_reply.started": "2022-10-22T09:11:05.714152Z",
          "shell.execute_reply": "2022-10-22T09:11:05.72329Z"
        },
        "trusted": true,
        "id": "7PUtkkkqpVLd"
      },
      "execution_count": 57,
      "outputs": []
    },
    {
      "cell_type": "code",
      "source": [
        "# Check Train DataFrame\n",
        "positive_df_train = generate_df(train_dir_pos, 'POSITIVE')\n",
        "negative_df_train = generate_df(train_dir_neg, 'NEGATIVE')\n",
        "\n",
        "# Concatenate DataFrame (on top of each other)\n",
        "data_train = pd.concat([positive_df, negative_df], axis=0).sample(frac=1, random_state=42).reset_index(drop=True)\n",
        "data_train.head()"
      ],
      "metadata": {
        "execution": {
          "iopub.status.busy": "2022-10-22T09:11:05.728009Z",
          "iopub.execute_input": "2022-10-22T09:11:05.728776Z",
          "iopub.status.idle": "2022-10-22T09:11:06.194521Z",
          "shell.execute_reply.started": "2022-10-22T09:11:05.728735Z",
          "shell.execute_reply": "2022-10-22T09:11:06.193561Z"
        },
        "trusted": true,
        "colab": {
          "base_uri": "https://localhost:8080/",
          "height": 206
        },
        "id": "d0PEZNYnpVLd",
        "outputId": "6c5ea5cf-4e71-4391-87e7-a3db3b33292c"
      },
      "execution_count": 58,
      "outputs": [
        {
          "output_type": "execute_result",
          "data": {
            "text/plain": [
              "                                            Filepath     Label\n",
              "0  /content/drive/MyDrive/Datasets/Projects/Bridg...  POSITIVE\n",
              "1  /content/drive/MyDrive/Datasets/Projects/Bridg...  NEGATIVE\n",
              "2  /content/drive/MyDrive/Datasets/Projects/Bridg...  NEGATIVE\n",
              "3  /content/drive/MyDrive/Datasets/Projects/Bridg...  POSITIVE\n",
              "4  /content/drive/MyDrive/Datasets/Projects/Bridg...  POSITIVE"
            ],
            "text/html": [
              "\n",
              "  <div id=\"df-f7244c6d-1c53-4d70-a361-83e484e07f7b\">\n",
              "    <div class=\"colab-df-container\">\n",
              "      <div>\n",
              "<style scoped>\n",
              "    .dataframe tbody tr th:only-of-type {\n",
              "        vertical-align: middle;\n",
              "    }\n",
              "\n",
              "    .dataframe tbody tr th {\n",
              "        vertical-align: top;\n",
              "    }\n",
              "\n",
              "    .dataframe thead th {\n",
              "        text-align: right;\n",
              "    }\n",
              "</style>\n",
              "<table border=\"1\" class=\"dataframe\">\n",
              "  <thead>\n",
              "    <tr style=\"text-align: right;\">\n",
              "      <th></th>\n",
              "      <th>Filepath</th>\n",
              "      <th>Label</th>\n",
              "    </tr>\n",
              "  </thead>\n",
              "  <tbody>\n",
              "    <tr>\n",
              "      <th>0</th>\n",
              "      <td>/content/drive/MyDrive/Datasets/Projects/Bridg...</td>\n",
              "      <td>POSITIVE</td>\n",
              "    </tr>\n",
              "    <tr>\n",
              "      <th>1</th>\n",
              "      <td>/content/drive/MyDrive/Datasets/Projects/Bridg...</td>\n",
              "      <td>NEGATIVE</td>\n",
              "    </tr>\n",
              "    <tr>\n",
              "      <th>2</th>\n",
              "      <td>/content/drive/MyDrive/Datasets/Projects/Bridg...</td>\n",
              "      <td>NEGATIVE</td>\n",
              "    </tr>\n",
              "    <tr>\n",
              "      <th>3</th>\n",
              "      <td>/content/drive/MyDrive/Datasets/Projects/Bridg...</td>\n",
              "      <td>POSITIVE</td>\n",
              "    </tr>\n",
              "    <tr>\n",
              "      <th>4</th>\n",
              "      <td>/content/drive/MyDrive/Datasets/Projects/Bridg...</td>\n",
              "      <td>POSITIVE</td>\n",
              "    </tr>\n",
              "  </tbody>\n",
              "</table>\n",
              "</div>\n",
              "      <button class=\"colab-df-convert\" onclick=\"convertToInteractive('df-f7244c6d-1c53-4d70-a361-83e484e07f7b')\"\n",
              "              title=\"Convert this dataframe to an interactive table.\"\n",
              "              style=\"display:none;\">\n",
              "        \n",
              "  <svg xmlns=\"http://www.w3.org/2000/svg\" height=\"24px\"viewBox=\"0 0 24 24\"\n",
              "       width=\"24px\">\n",
              "    <path d=\"M0 0h24v24H0V0z\" fill=\"none\"/>\n",
              "    <path d=\"M18.56 5.44l.94 2.06.94-2.06 2.06-.94-2.06-.94-.94-2.06-.94 2.06-2.06.94zm-11 1L8.5 8.5l.94-2.06 2.06-.94-2.06-.94L8.5 2.5l-.94 2.06-2.06.94zm10 10l.94 2.06.94-2.06 2.06-.94-2.06-.94-.94-2.06-.94 2.06-2.06.94z\"/><path d=\"M17.41 7.96l-1.37-1.37c-.4-.4-.92-.59-1.43-.59-.52 0-1.04.2-1.43.59L10.3 9.45l-7.72 7.72c-.78.78-.78 2.05 0 2.83L4 21.41c.39.39.9.59 1.41.59.51 0 1.02-.2 1.41-.59l7.78-7.78 2.81-2.81c.8-.78.8-2.07 0-2.86zM5.41 20L4 18.59l7.72-7.72 1.47 1.35L5.41 20z\"/>\n",
              "  </svg>\n",
              "      </button>\n",
              "      \n",
              "  <style>\n",
              "    .colab-df-container {\n",
              "      display:flex;\n",
              "      flex-wrap:wrap;\n",
              "      gap: 12px;\n",
              "    }\n",
              "\n",
              "    .colab-df-convert {\n",
              "      background-color: #E8F0FE;\n",
              "      border: none;\n",
              "      border-radius: 50%;\n",
              "      cursor: pointer;\n",
              "      display: none;\n",
              "      fill: #1967D2;\n",
              "      height: 32px;\n",
              "      padding: 0 0 0 0;\n",
              "      width: 32px;\n",
              "    }\n",
              "\n",
              "    .colab-df-convert:hover {\n",
              "      background-color: #E2EBFA;\n",
              "      box-shadow: 0px 1px 2px rgba(60, 64, 67, 0.3), 0px 1px 3px 1px rgba(60, 64, 67, 0.15);\n",
              "      fill: #174EA6;\n",
              "    }\n",
              "\n",
              "    [theme=dark] .colab-df-convert {\n",
              "      background-color: #3B4455;\n",
              "      fill: #D2E3FC;\n",
              "    }\n",
              "\n",
              "    [theme=dark] .colab-df-convert:hover {\n",
              "      background-color: #434B5C;\n",
              "      box-shadow: 0px 1px 3px 1px rgba(0, 0, 0, 0.15);\n",
              "      filter: drop-shadow(0px 1px 2px rgba(0, 0, 0, 0.3));\n",
              "      fill: #FFFFFF;\n",
              "    }\n",
              "  </style>\n",
              "\n",
              "      <script>\n",
              "        const buttonEl =\n",
              "          document.querySelector('#df-f7244c6d-1c53-4d70-a361-83e484e07f7b button.colab-df-convert');\n",
              "        buttonEl.style.display =\n",
              "          google.colab.kernel.accessAllowed ? 'block' : 'none';\n",
              "\n",
              "        async function convertToInteractive(key) {\n",
              "          const element = document.querySelector('#df-f7244c6d-1c53-4d70-a361-83e484e07f7b');\n",
              "          const dataTable =\n",
              "            await google.colab.kernel.invokeFunction('convertToInteractive',\n",
              "                                                     [key], {});\n",
              "          if (!dataTable) return;\n",
              "\n",
              "          const docLinkHtml = 'Like what you see? Visit the ' +\n",
              "            '<a target=\"_blank\" href=https://colab.research.google.com/notebooks/data_table.ipynb>data table notebook</a>'\n",
              "            + ' to learn more about interactive tables.';\n",
              "          element.innerHTML = '';\n",
              "          dataTable['output_type'] = 'display_data';\n",
              "          await google.colab.output.renderOutput(dataTable, element);\n",
              "          const docLink = document.createElement('div');\n",
              "          docLink.innerHTML = docLinkHtml;\n",
              "          element.appendChild(docLink);\n",
              "        }\n",
              "      </script>\n",
              "    </div>\n",
              "  </div>\n",
              "  "
            ]
          },
          "metadata": {},
          "execution_count": 58
        }
      ]
    },
    {
      "cell_type": "code",
      "source": [
        "# Check Test DataFrame\n",
        "positive_df_test = generate_df(test_dir_pos, 'POSITIVE')\n",
        "negative_df_test = generate_df(test_dir_neg, 'NEGATIVE')\n",
        "\n",
        "\n",
        "# Concatenate DataFrame (on top of each other)\n",
        "data_test = pd.concat([positive_df_test, negative_df_test], axis=0).sample(frac=1, random_state=42).reset_index(drop=True)\n",
        "data_test.head()"
      ],
      "metadata": {
        "colab": {
          "base_uri": "https://localhost:8080/",
          "height": 206
        },
        "id": "bJ6snzPIrFUi",
        "outputId": "f85bb971-5726-40b3-e19d-2e148a689a4c"
      },
      "execution_count": 59,
      "outputs": [
        {
          "output_type": "execute_result",
          "data": {
            "text/plain": [
              "                                            Filepath     Label\n",
              "0  /content/drive/MyDrive/Datasets/Projects/Bridg...  POSITIVE\n",
              "1  /content/drive/MyDrive/Datasets/Projects/Bridg...  POSITIVE\n",
              "2  /content/drive/MyDrive/Datasets/Projects/Bridg...  POSITIVE\n",
              "3  /content/drive/MyDrive/Datasets/Projects/Bridg...  NEGATIVE\n",
              "4  /content/drive/MyDrive/Datasets/Projects/Bridg...  NEGATIVE"
            ],
            "text/html": [
              "\n",
              "  <div id=\"df-15e93d44-6049-44a6-a095-42b745f94407\">\n",
              "    <div class=\"colab-df-container\">\n",
              "      <div>\n",
              "<style scoped>\n",
              "    .dataframe tbody tr th:only-of-type {\n",
              "        vertical-align: middle;\n",
              "    }\n",
              "\n",
              "    .dataframe tbody tr th {\n",
              "        vertical-align: top;\n",
              "    }\n",
              "\n",
              "    .dataframe thead th {\n",
              "        text-align: right;\n",
              "    }\n",
              "</style>\n",
              "<table border=\"1\" class=\"dataframe\">\n",
              "  <thead>\n",
              "    <tr style=\"text-align: right;\">\n",
              "      <th></th>\n",
              "      <th>Filepath</th>\n",
              "      <th>Label</th>\n",
              "    </tr>\n",
              "  </thead>\n",
              "  <tbody>\n",
              "    <tr>\n",
              "      <th>0</th>\n",
              "      <td>/content/drive/MyDrive/Datasets/Projects/Bridg...</td>\n",
              "      <td>POSITIVE</td>\n",
              "    </tr>\n",
              "    <tr>\n",
              "      <th>1</th>\n",
              "      <td>/content/drive/MyDrive/Datasets/Projects/Bridg...</td>\n",
              "      <td>POSITIVE</td>\n",
              "    </tr>\n",
              "    <tr>\n",
              "      <th>2</th>\n",
              "      <td>/content/drive/MyDrive/Datasets/Projects/Bridg...</td>\n",
              "      <td>POSITIVE</td>\n",
              "    </tr>\n",
              "    <tr>\n",
              "      <th>3</th>\n",
              "      <td>/content/drive/MyDrive/Datasets/Projects/Bridg...</td>\n",
              "      <td>NEGATIVE</td>\n",
              "    </tr>\n",
              "    <tr>\n",
              "      <th>4</th>\n",
              "      <td>/content/drive/MyDrive/Datasets/Projects/Bridg...</td>\n",
              "      <td>NEGATIVE</td>\n",
              "    </tr>\n",
              "  </tbody>\n",
              "</table>\n",
              "</div>\n",
              "      <button class=\"colab-df-convert\" onclick=\"convertToInteractive('df-15e93d44-6049-44a6-a095-42b745f94407')\"\n",
              "              title=\"Convert this dataframe to an interactive table.\"\n",
              "              style=\"display:none;\">\n",
              "        \n",
              "  <svg xmlns=\"http://www.w3.org/2000/svg\" height=\"24px\"viewBox=\"0 0 24 24\"\n",
              "       width=\"24px\">\n",
              "    <path d=\"M0 0h24v24H0V0z\" fill=\"none\"/>\n",
              "    <path d=\"M18.56 5.44l.94 2.06.94-2.06 2.06-.94-2.06-.94-.94-2.06-.94 2.06-2.06.94zm-11 1L8.5 8.5l.94-2.06 2.06-.94-2.06-.94L8.5 2.5l-.94 2.06-2.06.94zm10 10l.94 2.06.94-2.06 2.06-.94-2.06-.94-.94-2.06-.94 2.06-2.06.94z\"/><path d=\"M17.41 7.96l-1.37-1.37c-.4-.4-.92-.59-1.43-.59-.52 0-1.04.2-1.43.59L10.3 9.45l-7.72 7.72c-.78.78-.78 2.05 0 2.83L4 21.41c.39.39.9.59 1.41.59.51 0 1.02-.2 1.41-.59l7.78-7.78 2.81-2.81c.8-.78.8-2.07 0-2.86zM5.41 20L4 18.59l7.72-7.72 1.47 1.35L5.41 20z\"/>\n",
              "  </svg>\n",
              "      </button>\n",
              "      \n",
              "  <style>\n",
              "    .colab-df-container {\n",
              "      display:flex;\n",
              "      flex-wrap:wrap;\n",
              "      gap: 12px;\n",
              "    }\n",
              "\n",
              "    .colab-df-convert {\n",
              "      background-color: #E8F0FE;\n",
              "      border: none;\n",
              "      border-radius: 50%;\n",
              "      cursor: pointer;\n",
              "      display: none;\n",
              "      fill: #1967D2;\n",
              "      height: 32px;\n",
              "      padding: 0 0 0 0;\n",
              "      width: 32px;\n",
              "    }\n",
              "\n",
              "    .colab-df-convert:hover {\n",
              "      background-color: #E2EBFA;\n",
              "      box-shadow: 0px 1px 2px rgba(60, 64, 67, 0.3), 0px 1px 3px 1px rgba(60, 64, 67, 0.15);\n",
              "      fill: #174EA6;\n",
              "    }\n",
              "\n",
              "    [theme=dark] .colab-df-convert {\n",
              "      background-color: #3B4455;\n",
              "      fill: #D2E3FC;\n",
              "    }\n",
              "\n",
              "    [theme=dark] .colab-df-convert:hover {\n",
              "      background-color: #434B5C;\n",
              "      box-shadow: 0px 1px 3px 1px rgba(0, 0, 0, 0.15);\n",
              "      filter: drop-shadow(0px 1px 2px rgba(0, 0, 0, 0.3));\n",
              "      fill: #FFFFFF;\n",
              "    }\n",
              "  </style>\n",
              "\n",
              "      <script>\n",
              "        const buttonEl =\n",
              "          document.querySelector('#df-15e93d44-6049-44a6-a095-42b745f94407 button.colab-df-convert');\n",
              "        buttonEl.style.display =\n",
              "          google.colab.kernel.accessAllowed ? 'block' : 'none';\n",
              "\n",
              "        async function convertToInteractive(key) {\n",
              "          const element = document.querySelector('#df-15e93d44-6049-44a6-a095-42b745f94407');\n",
              "          const dataTable =\n",
              "            await google.colab.kernel.invokeFunction('convertToInteractive',\n",
              "                                                     [key], {});\n",
              "          if (!dataTable) return;\n",
              "\n",
              "          const docLinkHtml = 'Like what you see? Visit the ' +\n",
              "            '<a target=\"_blank\" href=https://colab.research.google.com/notebooks/data_table.ipynb>data table notebook</a>'\n",
              "            + ' to learn more about interactive tables.';\n",
              "          element.innerHTML = '';\n",
              "          dataTable['output_type'] = 'display_data';\n",
              "          await google.colab.output.renderOutput(dataTable, element);\n",
              "          const docLink = document.createElement('div');\n",
              "          docLink.innerHTML = docLinkHtml;\n",
              "          element.appendChild(docLink);\n",
              "        }\n",
              "      </script>\n",
              "    </div>\n",
              "  </div>\n",
              "  "
            ]
          },
          "metadata": {},
          "execution_count": 59
        }
      ]
    },
    {
      "cell_type": "code",
      "source": [
        "# Check Valid DataFrame\n",
        "positive_df_valid = generate_df(valid_dir_pos, 'POSITIVE')\n",
        "negative_df_valid = generate_df(valid_dir_neg, 'NEGATIVE')\n",
        "\n",
        "\n",
        "# Concatenate DataFrame (on top of each other)\n",
        "data_valid = pd.concat([positive_df_valid, negative_df_valid], axis=0).sample(frac=1, random_state=42).reset_index(drop=True)\n",
        "data_valid.head()"
      ],
      "metadata": {
        "colab": {
          "base_uri": "https://localhost:8080/",
          "height": 206
        },
        "id": "HSz2-hm8rlIf",
        "outputId": "b15f5de6-ce17-4319-c72e-ffa779a1a150"
      },
      "execution_count": 60,
      "outputs": [
        {
          "output_type": "execute_result",
          "data": {
            "text/plain": [
              "                                            Filepath     Label\n",
              "0  /content/drive/MyDrive/Datasets/Projects/Bridg...  POSITIVE\n",
              "1  /content/drive/MyDrive/Datasets/Projects/Bridg...  POSITIVE\n",
              "2  /content/drive/MyDrive/Datasets/Projects/Bridg...  POSITIVE\n",
              "3  /content/drive/MyDrive/Datasets/Projects/Bridg...  NEGATIVE\n",
              "4  /content/drive/MyDrive/Datasets/Projects/Bridg...  NEGATIVE"
            ],
            "text/html": [
              "\n",
              "  <div id=\"df-c81210b3-3357-4e13-975b-c4177e6b43ee\">\n",
              "    <div class=\"colab-df-container\">\n",
              "      <div>\n",
              "<style scoped>\n",
              "    .dataframe tbody tr th:only-of-type {\n",
              "        vertical-align: middle;\n",
              "    }\n",
              "\n",
              "    .dataframe tbody tr th {\n",
              "        vertical-align: top;\n",
              "    }\n",
              "\n",
              "    .dataframe thead th {\n",
              "        text-align: right;\n",
              "    }\n",
              "</style>\n",
              "<table border=\"1\" class=\"dataframe\">\n",
              "  <thead>\n",
              "    <tr style=\"text-align: right;\">\n",
              "      <th></th>\n",
              "      <th>Filepath</th>\n",
              "      <th>Label</th>\n",
              "    </tr>\n",
              "  </thead>\n",
              "  <tbody>\n",
              "    <tr>\n",
              "      <th>0</th>\n",
              "      <td>/content/drive/MyDrive/Datasets/Projects/Bridg...</td>\n",
              "      <td>POSITIVE</td>\n",
              "    </tr>\n",
              "    <tr>\n",
              "      <th>1</th>\n",
              "      <td>/content/drive/MyDrive/Datasets/Projects/Bridg...</td>\n",
              "      <td>POSITIVE</td>\n",
              "    </tr>\n",
              "    <tr>\n",
              "      <th>2</th>\n",
              "      <td>/content/drive/MyDrive/Datasets/Projects/Bridg...</td>\n",
              "      <td>POSITIVE</td>\n",
              "    </tr>\n",
              "    <tr>\n",
              "      <th>3</th>\n",
              "      <td>/content/drive/MyDrive/Datasets/Projects/Bridg...</td>\n",
              "      <td>NEGATIVE</td>\n",
              "    </tr>\n",
              "    <tr>\n",
              "      <th>4</th>\n",
              "      <td>/content/drive/MyDrive/Datasets/Projects/Bridg...</td>\n",
              "      <td>NEGATIVE</td>\n",
              "    </tr>\n",
              "  </tbody>\n",
              "</table>\n",
              "</div>\n",
              "      <button class=\"colab-df-convert\" onclick=\"convertToInteractive('df-c81210b3-3357-4e13-975b-c4177e6b43ee')\"\n",
              "              title=\"Convert this dataframe to an interactive table.\"\n",
              "              style=\"display:none;\">\n",
              "        \n",
              "  <svg xmlns=\"http://www.w3.org/2000/svg\" height=\"24px\"viewBox=\"0 0 24 24\"\n",
              "       width=\"24px\">\n",
              "    <path d=\"M0 0h24v24H0V0z\" fill=\"none\"/>\n",
              "    <path d=\"M18.56 5.44l.94 2.06.94-2.06 2.06-.94-2.06-.94-.94-2.06-.94 2.06-2.06.94zm-11 1L8.5 8.5l.94-2.06 2.06-.94-2.06-.94L8.5 2.5l-.94 2.06-2.06.94zm10 10l.94 2.06.94-2.06 2.06-.94-2.06-.94-.94-2.06-.94 2.06-2.06.94z\"/><path d=\"M17.41 7.96l-1.37-1.37c-.4-.4-.92-.59-1.43-.59-.52 0-1.04.2-1.43.59L10.3 9.45l-7.72 7.72c-.78.78-.78 2.05 0 2.83L4 21.41c.39.39.9.59 1.41.59.51 0 1.02-.2 1.41-.59l7.78-7.78 2.81-2.81c.8-.78.8-2.07 0-2.86zM5.41 20L4 18.59l7.72-7.72 1.47 1.35L5.41 20z\"/>\n",
              "  </svg>\n",
              "      </button>\n",
              "      \n",
              "  <style>\n",
              "    .colab-df-container {\n",
              "      display:flex;\n",
              "      flex-wrap:wrap;\n",
              "      gap: 12px;\n",
              "    }\n",
              "\n",
              "    .colab-df-convert {\n",
              "      background-color: #E8F0FE;\n",
              "      border: none;\n",
              "      border-radius: 50%;\n",
              "      cursor: pointer;\n",
              "      display: none;\n",
              "      fill: #1967D2;\n",
              "      height: 32px;\n",
              "      padding: 0 0 0 0;\n",
              "      width: 32px;\n",
              "    }\n",
              "\n",
              "    .colab-df-convert:hover {\n",
              "      background-color: #E2EBFA;\n",
              "      box-shadow: 0px 1px 2px rgba(60, 64, 67, 0.3), 0px 1px 3px 1px rgba(60, 64, 67, 0.15);\n",
              "      fill: #174EA6;\n",
              "    }\n",
              "\n",
              "    [theme=dark] .colab-df-convert {\n",
              "      background-color: #3B4455;\n",
              "      fill: #D2E3FC;\n",
              "    }\n",
              "\n",
              "    [theme=dark] .colab-df-convert:hover {\n",
              "      background-color: #434B5C;\n",
              "      box-shadow: 0px 1px 3px 1px rgba(0, 0, 0, 0.15);\n",
              "      filter: drop-shadow(0px 1px 2px rgba(0, 0, 0, 0.3));\n",
              "      fill: #FFFFFF;\n",
              "    }\n",
              "  </style>\n",
              "\n",
              "      <script>\n",
              "        const buttonEl =\n",
              "          document.querySelector('#df-c81210b3-3357-4e13-975b-c4177e6b43ee button.colab-df-convert');\n",
              "        buttonEl.style.display =\n",
              "          google.colab.kernel.accessAllowed ? 'block' : 'none';\n",
              "\n",
              "        async function convertToInteractive(key) {\n",
              "          const element = document.querySelector('#df-c81210b3-3357-4e13-975b-c4177e6b43ee');\n",
              "          const dataTable =\n",
              "            await google.colab.kernel.invokeFunction('convertToInteractive',\n",
              "                                                     [key], {});\n",
              "          if (!dataTable) return;\n",
              "\n",
              "          const docLinkHtml = 'Like what you see? Visit the ' +\n",
              "            '<a target=\"_blank\" href=https://colab.research.google.com/notebooks/data_table.ipynb>data table notebook</a>'\n",
              "            + ' to learn more about interactive tables.';\n",
              "          element.innerHTML = '';\n",
              "          dataTable['output_type'] = 'display_data';\n",
              "          await google.colab.output.renderOutput(dataTable, element);\n",
              "          const docLink = document.createElement('div');\n",
              "          docLink.innerHTML = docLinkHtml;\n",
              "          element.appendChild(docLink);\n",
              "        }\n",
              "      </script>\n",
              "    </div>\n",
              "  </div>\n",
              "  "
            ]
          },
          "metadata": {},
          "execution_count": 60
        }
      ]
    },
    {
      "cell_type": "markdown",
      "source": [
        "# Loading Image Data"
      ],
      "metadata": {
        "id": "xaCvEFjBpVLe"
      }
    },
    {
      "cell_type": "code",
      "source": [
        "# Image generator for the training set\n",
        "train_generator = tf.keras.preprocessing.image.ImageDataGenerator(\n",
        "    rescale=1./255,\n",
        "    validation_split=0.2,\n",
        ")\n",
        "\n",
        "# Image generator for the test set\n",
        "test_generator = tf.keras.preprocessing.image.ImageDataGenerator(\n",
        "    rescale=1./255\n",
        ")\n"
      ],
      "metadata": {
        "execution": {
          "iopub.status.busy": "2022-10-22T09:11:06.6102Z",
          "iopub.execute_input": "2022-10-22T09:11:06.610825Z",
          "iopub.status.idle": "2022-10-22T09:11:07.84566Z",
          "shell.execute_reply.started": "2022-10-22T09:11:06.610779Z",
          "shell.execute_reply": "2022-10-22T09:11:07.8447Z"
        },
        "trusted": true,
        "id": "GWgtlf2lpVLf"
      },
      "execution_count": 61,
      "outputs": []
    },
    {
      "cell_type": "code",
      "source": [
        "# Generate training images\n",
        "train_images = train_generator.flow_from_dataframe(\n",
        "    data_train,\n",
        "    x_col='Filepath',\n",
        "    y_col='Label',\n",
        "    target_size=(120, 120),\n",
        "    color_mode='rgb',\n",
        "    class_mode='binary',\n",
        "    batch_size=32,\n",
        "    shuffle=True,\n",
        "    seed=42,\n",
        ")\n",
        "\n",
        "# Generate validation images\n",
        "val_images = test_generator.flow_from_dataframe(\n",
        "    data_valid,\n",
        "    x_col='Filepath',\n",
        "    y_col='Label',\n",
        "    target_size=(120, 120),\n",
        "    color_mode='rgb',\n",
        "    class_mode='binary',\n",
        "    batch_size=32,\n",
        "    shuffle=True,\n",
        "    seed=42,\n",
        ")\n",
        "\n",
        "# Generate test images\n",
        "test_images = test_generator.flow_from_dataframe(\n",
        "    data_test,\n",
        "    x_col='Filepath',\n",
        "    y_col='Label',\n",
        "    target_size=(120, 120),\n",
        "    color_mode='rgb',\n",
        "    class_mode='binary',\n",
        "    batch_size=32,\n",
        "    shuffle=False\n",
        ")"
      ],
      "metadata": {
        "execution": {
          "iopub.status.busy": "2022-10-22T09:11:07.847202Z",
          "iopub.execute_input": "2022-10-22T09:11:07.847567Z",
          "iopub.status.idle": "2022-10-22T09:11:19.299503Z",
          "shell.execute_reply.started": "2022-10-22T09:11:07.847529Z",
          "shell.execute_reply": "2022-10-22T09:11:19.298438Z"
        },
        "trusted": true,
        "colab": {
          "base_uri": "https://localhost:8080/"
        },
        "id": "OfKOJMxhpVLf",
        "outputId": "58283798-ab6d-405a-9236-d81e7093b3ab"
      },
      "execution_count": 62,
      "outputs": [
        {
          "output_type": "stream",
          "name": "stdout",
          "text": [
            "Found 600 validated image filenames belonging to 2 classes.\n",
            "Found 200 validated image filenames belonging to 2 classes.\n",
            "Found 200 validated image filenames belonging to 2 classes.\n"
          ]
        }
      ]
    },
    {
      "cell_type": "markdown",
      "source": [
        "# Training"
      ],
      "metadata": {
        "id": "LGMWJ333pVLf"
      }
    },
    {
      "cell_type": "code",
      "source": [
        "# Create the layers\n",
        "inputs = tf.keras.Input(shape=(120, 120, 3))\n",
        "x = tf.keras.layers.Conv2D(filters=16, kernel_size=3, activation='relu')(inputs)\n",
        "x = tf.keras.layers.MaxPool2D(pool_size=2)(x)\n",
        "\n",
        "\n",
        "x = tf.keras.layers.Conv2D(filters=32, kernel_size=3, activation='relu')(x)\n",
        "x = tf.keras.layers.MaxPool2D(pool_size=2)(x)\n",
        "\n",
        "\n",
        "x = tf.keras.layers.GlobalAveragePooling2D()(x)\n",
        "x = tf.keras.layers.Dense(128, activation='relu')(x)\n",
        "x = tf.keras.layers.Dense(128, activation='relu')(x)\n",
        "\n",
        "\n",
        "outputs = tf.keras.layers.Dense(1, activation='sigmoid')(x)"
      ],
      "metadata": {
        "execution": {
          "iopub.status.busy": "2022-10-22T09:11:19.303292Z",
          "iopub.execute_input": "2022-10-22T09:11:19.30357Z",
          "iopub.status.idle": "2022-10-22T09:11:25.587759Z",
          "shell.execute_reply.started": "2022-10-22T09:11:19.303544Z",
          "shell.execute_reply": "2022-10-22T09:11:25.586711Z"
        },
        "collapsed": true,
        "jupyter": {
          "outputs_hidden": true
        },
        "trusted": true,
        "id": "sa49TigTpVLg"
      },
      "execution_count": 63,
      "outputs": []
    },
    {
      "cell_type": "code",
      "source": [
        "# Create the model\n",
        "model = tf.keras.Model(inputs=inputs, outputs=outputs)\n",
        "model.summary()"
      ],
      "metadata": {
        "execution": {
          "iopub.status.busy": "2022-10-22T09:11:25.58918Z",
          "iopub.execute_input": "2022-10-22T09:11:25.590931Z",
          "iopub.status.idle": "2022-10-22T09:11:25.601806Z",
          "shell.execute_reply.started": "2022-10-22T09:11:25.590889Z",
          "shell.execute_reply": "2022-10-22T09:11:25.600508Z"
        },
        "trusted": true,
        "colab": {
          "base_uri": "https://localhost:8080/"
        },
        "id": "e6r1CgHNpVLg",
        "outputId": "d51d0c38-6d60-4d7a-fc06-89c930215278"
      },
      "execution_count": 64,
      "outputs": [
        {
          "output_type": "stream",
          "name": "stdout",
          "text": [
            "Model: \"model_2\"\n",
            "_________________________________________________________________\n",
            " Layer (type)                Output Shape              Param #   \n",
            "=================================================================\n",
            " input_3 (InputLayer)        [(None, 120, 120, 3)]     0         \n",
            "                                                                 \n",
            " conv2d_4 (Conv2D)           (None, 118, 118, 16)      448       \n",
            "                                                                 \n",
            " max_pooling2d_4 (MaxPooling  (None, 59, 59, 16)       0         \n",
            " 2D)                                                             \n",
            "                                                                 \n",
            " conv2d_5 (Conv2D)           (None, 57, 57, 32)        4640      \n",
            "                                                                 \n",
            " max_pooling2d_5 (MaxPooling  (None, 28, 28, 32)       0         \n",
            " 2D)                                                             \n",
            "                                                                 \n",
            " global_average_pooling2d_2   (None, 32)               0         \n",
            " (GlobalAveragePooling2D)                                        \n",
            "                                                                 \n",
            " dense_6 (Dense)             (None, 128)               4224      \n",
            "                                                                 \n",
            " dense_7 (Dense)             (None, 128)               16512     \n",
            "                                                                 \n",
            " dense_8 (Dense)             (None, 1)                 129       \n",
            "                                                                 \n",
            "=================================================================\n",
            "Total params: 25,953\n",
            "Trainable params: 25,953\n",
            "Non-trainable params: 0\n",
            "_________________________________________________________________\n"
          ]
        }
      ]
    },
    {
      "cell_type": "code",
      "source": [
        "# Compile the model\n",
        "model.compile(\n",
        "    optimizer='adam',\n",
        "    loss='binary_crossentropy',\n",
        "    metrics=['accuracy']\n",
        ")"
      ],
      "metadata": {
        "execution": {
          "iopub.status.busy": "2022-10-22T09:11:25.603296Z",
          "iopub.execute_input": "2022-10-22T09:11:25.603959Z",
          "iopub.status.idle": "2022-10-22T09:11:25.619066Z",
          "shell.execute_reply.started": "2022-10-22T09:11:25.603912Z",
          "shell.execute_reply": "2022-10-22T09:11:25.617879Z"
        },
        "trusted": true,
        "id": "Zg6Lh6NApVLg"
      },
      "execution_count": 65,
      "outputs": []
    },
    {
      "cell_type": "code",
      "source": [
        "# History\n",
        "history = model.fit(\n",
        "    train_images,\n",
        "    validation_data=val_images,\n",
        "    epochs=100,\n",
        "    callbacks=[\n",
        "        tf.keras.callbacks.EarlyStopping(\n",
        "            monitor='val_loss',\n",
        "            patience=3,\n",
        "            restore_best_weights=True\n",
        "        )\n",
        "    ]\n",
        ")"
      ],
      "metadata": {
        "execution": {
          "iopub.status.busy": "2022-10-22T09:11:25.620924Z",
          "iopub.execute_input": "2022-10-22T09:11:25.62135Z",
          "iopub.status.idle": "2022-10-22T09:15:06.044429Z",
          "shell.execute_reply.started": "2022-10-22T09:11:25.621299Z",
          "shell.execute_reply": "2022-10-22T09:15:06.04334Z"
        },
        "trusted": true,
        "colab": {
          "base_uri": "https://localhost:8080/"
        },
        "id": "qos3EXaApVLg",
        "outputId": "df74c770-df6b-4b4e-d44b-2dd25c7f9559"
      },
      "execution_count": 66,
      "outputs": [
        {
          "output_type": "stream",
          "name": "stdout",
          "text": [
            "Epoch 1/100\n",
            "19/19 [==============================] - 3s 122ms/step - loss: 0.6943 - accuracy: 0.4967 - val_loss: 0.6906 - val_accuracy: 0.7200\n",
            "Epoch 2/100\n",
            "19/19 [==============================] - 2s 110ms/step - loss: 0.6901 - accuracy: 0.5300 - val_loss: 0.6853 - val_accuracy: 0.5000\n",
            "Epoch 3/100\n",
            "19/19 [==============================] - 2s 111ms/step - loss: 0.6858 - accuracy: 0.5733 - val_loss: 0.6764 - val_accuracy: 0.7850\n",
            "Epoch 4/100\n",
            "19/19 [==============================] - 2s 110ms/step - loss: 0.6749 - accuracy: 0.6233 - val_loss: 0.6675 - val_accuracy: 0.5000\n",
            "Epoch 5/100\n",
            "19/19 [==============================] - 3s 137ms/step - loss: 0.6499 - accuracy: 0.6117 - val_loss: 0.6123 - val_accuracy: 0.7000\n",
            "Epoch 6/100\n",
            "19/19 [==============================] - 2s 113ms/step - loss: 0.5914 - accuracy: 0.7583 - val_loss: 0.4724 - val_accuracy: 0.8200\n",
            "Epoch 7/100\n",
            "19/19 [==============================] - 2s 110ms/step - loss: 0.4805 - accuracy: 0.7967 - val_loss: 0.3696 - val_accuracy: 0.9400\n",
            "Epoch 8/100\n",
            "19/19 [==============================] - 2s 113ms/step - loss: 0.4167 - accuracy: 0.8267 - val_loss: 0.3282 - val_accuracy: 0.9450\n",
            "Epoch 9/100\n",
            "19/19 [==============================] - 2s 109ms/step - loss: 0.4372 - accuracy: 0.8017 - val_loss: 0.3122 - val_accuracy: 0.9000\n",
            "Epoch 10/100\n",
            "19/19 [==============================] - 2s 111ms/step - loss: 0.3912 - accuracy: 0.8467 - val_loss: 0.2597 - val_accuracy: 0.9300\n",
            "Epoch 11/100\n",
            "19/19 [==============================] - 2s 111ms/step - loss: 0.3708 - accuracy: 0.8550 - val_loss: 0.2778 - val_accuracy: 0.9550\n",
            "Epoch 12/100\n",
            "19/19 [==============================] - 2s 112ms/step - loss: 0.3593 - accuracy: 0.8600 - val_loss: 0.2439 - val_accuracy: 0.9350\n",
            "Epoch 13/100\n",
            "19/19 [==============================] - 2s 110ms/step - loss: 0.3399 - accuracy: 0.8717 - val_loss: 0.2113 - val_accuracy: 0.9300\n",
            "Epoch 14/100\n",
            "19/19 [==============================] - 2s 108ms/step - loss: 0.3562 - accuracy: 0.8650 - val_loss: 0.2069 - val_accuracy: 0.9350\n",
            "Epoch 15/100\n",
            "19/19 [==============================] - 2s 113ms/step - loss: 0.3344 - accuracy: 0.8667 - val_loss: 0.2329 - val_accuracy: 0.9500\n",
            "Epoch 16/100\n",
            "19/19 [==============================] - 3s 137ms/step - loss: 0.3379 - accuracy: 0.8783 - val_loss: 0.2899 - val_accuracy: 0.9600\n",
            "Epoch 17/100\n",
            "19/19 [==============================] - 2s 108ms/step - loss: 0.3322 - accuracy: 0.8750 - val_loss: 0.2041 - val_accuracy: 0.9400\n",
            "Epoch 18/100\n",
            "19/19 [==============================] - 2s 111ms/step - loss: 0.3148 - accuracy: 0.8800 - val_loss: 0.1844 - val_accuracy: 0.9400\n",
            "Epoch 19/100\n",
            "19/19 [==============================] - 2s 110ms/step - loss: 0.3207 - accuracy: 0.8817 - val_loss: 0.1986 - val_accuracy: 0.9600\n",
            "Epoch 20/100\n",
            "19/19 [==============================] - 2s 108ms/step - loss: 0.2963 - accuracy: 0.8883 - val_loss: 0.2094 - val_accuracy: 0.9700\n",
            "Epoch 21/100\n",
            "19/19 [==============================] - 2s 112ms/step - loss: 0.2954 - accuracy: 0.8900 - val_loss: 0.1844 - val_accuracy: 0.9650\n",
            "Epoch 22/100\n",
            "19/19 [==============================] - 2s 109ms/step - loss: 0.2796 - accuracy: 0.8917 - val_loss: 0.1978 - val_accuracy: 0.9700\n",
            "Epoch 23/100\n",
            "19/19 [==============================] - 2s 111ms/step - loss: 0.2701 - accuracy: 0.9000 - val_loss: 0.1440 - val_accuracy: 0.9700\n",
            "Epoch 24/100\n",
            "19/19 [==============================] - 2s 114ms/step - loss: 0.2403 - accuracy: 0.9117 - val_loss: 0.1147 - val_accuracy: 0.9700\n",
            "Epoch 25/100\n",
            "19/19 [==============================] - 2s 110ms/step - loss: 0.2546 - accuracy: 0.9050 - val_loss: 0.1120 - val_accuracy: 0.9700\n",
            "Epoch 26/100\n",
            "19/19 [==============================] - 2s 111ms/step - loss: 0.2439 - accuracy: 0.9083 - val_loss: 0.1430 - val_accuracy: 0.9650\n",
            "Epoch 27/100\n",
            "19/19 [==============================] - 2s 113ms/step - loss: 0.2077 - accuracy: 0.9367 - val_loss: 0.1122 - val_accuracy: 0.9650\n",
            "Epoch 28/100\n",
            "19/19 [==============================] - 2s 113ms/step - loss: 0.2033 - accuracy: 0.9367 - val_loss: 0.1096 - val_accuracy: 0.9650\n",
            "Epoch 29/100\n",
            "19/19 [==============================] - 2s 109ms/step - loss: 0.1998 - accuracy: 0.9217 - val_loss: 0.0970 - val_accuracy: 0.9900\n",
            "Epoch 30/100\n",
            "19/19 [==============================] - 2s 107ms/step - loss: 0.2248 - accuracy: 0.9150 - val_loss: 0.1175 - val_accuracy: 0.9750\n",
            "Epoch 31/100\n",
            "19/19 [==============================] - 2s 108ms/step - loss: 0.2081 - accuracy: 0.9300 - val_loss: 0.0743 - val_accuracy: 0.9850\n",
            "Epoch 32/100\n",
            "19/19 [==============================] - 2s 111ms/step - loss: 0.1962 - accuracy: 0.9333 - val_loss: 0.0878 - val_accuracy: 0.9850\n",
            "Epoch 33/100\n",
            "19/19 [==============================] - 2s 108ms/step - loss: 0.1936 - accuracy: 0.9367 - val_loss: 0.0589 - val_accuracy: 0.9900\n",
            "Epoch 34/100\n",
            "19/19 [==============================] - 2s 109ms/step - loss: 0.1810 - accuracy: 0.9383 - val_loss: 0.0796 - val_accuracy: 0.9850\n",
            "Epoch 35/100\n",
            "19/19 [==============================] - 2s 110ms/step - loss: 0.1712 - accuracy: 0.9450 - val_loss: 0.0592 - val_accuracy: 0.9950\n",
            "Epoch 36/100\n",
            "19/19 [==============================] - 2s 109ms/step - loss: 0.1603 - accuracy: 0.9433 - val_loss: 0.0908 - val_accuracy: 0.9850\n"
          ]
        }
      ]
    },
    {
      "cell_type": "code",
      "source": [
        "fig = px.line(\n",
        "    history.history,\n",
        "    y=['loss', 'val_loss'],\n",
        "    labels={'index': \"Epochs\", 'value':\"Loss\"},\n",
        "    title=(\"Training and Validation Loss over Time\")\n",
        ")\n",
        "\n",
        "fig.show()"
      ],
      "metadata": {
        "execution": {
          "iopub.status.busy": "2022-10-22T09:15:06.049517Z",
          "iopub.execute_input": "2022-10-22T09:15:06.052755Z",
          "iopub.status.idle": "2022-10-22T09:15:08.047033Z",
          "shell.execute_reply.started": "2022-10-22T09:15:06.052714Z",
          "shell.execute_reply": "2022-10-22T09:15:08.045433Z"
        },
        "trusted": true,
        "colab": {
          "base_uri": "https://localhost:8080/",
          "height": 542
        },
        "id": "_5ud402JpVLh",
        "outputId": "78a5657c-fb7b-40da-d070-9f4974e10c0f"
      },
      "execution_count": 67,
      "outputs": [
        {
          "output_type": "display_data",
          "data": {
            "text/html": [
              "<html>\n",
              "<head><meta charset=\"utf-8\" /></head>\n",
              "<body>\n",
              "    <div>            <script src=\"https://cdnjs.cloudflare.com/ajax/libs/mathjax/2.7.5/MathJax.js?config=TeX-AMS-MML_SVG\"></script><script type=\"text/javascript\">if (window.MathJax) {MathJax.Hub.Config({SVG: {font: \"STIX-Web\"}});}</script>                <script type=\"text/javascript\">window.PlotlyConfig = {MathJaxConfig: 'local'};</script>\n",
              "        <script src=\"https://cdn.plot.ly/plotly-2.8.3.min.js\"></script>                <div id=\"a2c1076c-7df7-41c9-85fd-cf64c0a9cb54\" class=\"plotly-graph-div\" style=\"height:525px; width:100%;\"></div>            <script type=\"text/javascript\">                                    window.PLOTLYENV=window.PLOTLYENV || {};                                    if (document.getElementById(\"a2c1076c-7df7-41c9-85fd-cf64c0a9cb54\")) {                    Plotly.newPlot(                        \"a2c1076c-7df7-41c9-85fd-cf64c0a9cb54\",                        [{\"hovertemplate\":\"variable=loss<br>Epochs=%{x}<br>Loss=%{y}<extra></extra>\",\"legendgroup\":\"loss\",\"line\":{\"color\":\"#636efa\",\"dash\":\"solid\"},\"marker\":{\"symbol\":\"circle\"},\"mode\":\"lines\",\"name\":\"loss\",\"orientation\":\"v\",\"showlegend\":true,\"x\":[0,1,2,3,4,5,6,7,8,9,10,11,12,13,14,15,16,17,18,19,20,21,22,23,24,25,26,27,28,29,30,31,32,33,34,35],\"xaxis\":\"x\",\"y\":[0.6943286657333374,0.690051794052124,0.6858273148536682,0.6748993992805481,0.649936854839325,0.5913891792297363,0.48048070073127747,0.41665932536125183,0.43716907501220703,0.3912355601787567,0.3707583248615265,0.3593361973762512,0.3398655951023102,0.3561771512031555,0.3344486653804779,0.33788424730300903,0.3322492837905884,0.3148093521595001,0.32072338461875916,0.29628458619117737,0.2954297661781311,0.27960237860679626,0.2700558304786682,0.24034662544727325,0.2546145021915436,0.24387603998184204,0.20773179829120636,0.20332123339176178,0.19984160363674164,0.22481320798397064,0.20807112753391266,0.1961803436279297,0.19356724619865417,0.18096880614757538,0.17116017639636993,0.160262793302536],\"yaxis\":\"y\",\"type\":\"scatter\"},{\"hovertemplate\":\"variable=val_loss<br>Epochs=%{x}<br>Loss=%{y}<extra></extra>\",\"legendgroup\":\"val_loss\",\"line\":{\"color\":\"#EF553B\",\"dash\":\"solid\"},\"marker\":{\"symbol\":\"circle\"},\"mode\":\"lines\",\"name\":\"val_loss\",\"orientation\":\"v\",\"showlegend\":true,\"x\":[0,1,2,3,4,5,6,7,8,9,10,11,12,13,14,15,16,17,18,19,20,21,22,23,24,25,26,27,28,29,30,31,32,33,34,35],\"xaxis\":\"x\",\"y\":[0.6906402707099915,0.6852739453315735,0.6764266490936279,0.6674515604972839,0.6123237013816833,0.47235339879989624,0.3695501685142517,0.3281744122505188,0.3122297525405884,0.25967082381248474,0.2778482437133789,0.24390576779842377,0.21125537157058716,0.2068803608417511,0.23289713263511658,0.2899155914783478,0.20409122109413147,0.1844363808631897,0.19860497117042542,0.20936842262744904,0.18443375825881958,0.19783517718315125,0.1439667046070099,0.11472436785697937,0.11198288202285767,0.14298684895038605,0.11220885068178177,0.10960853844881058,0.09704715013504028,0.1174861416220665,0.07433212548494339,0.08777046948671341,0.05888530611991882,0.07959775626659393,0.05917268246412277,0.09082462638616562],\"yaxis\":\"y\",\"type\":\"scatter\"}],                        {\"template\":{\"data\":{\"bar\":[{\"error_x\":{\"color\":\"#2a3f5f\"},\"error_y\":{\"color\":\"#2a3f5f\"},\"marker\":{\"line\":{\"color\":\"#E5ECF6\",\"width\":0.5},\"pattern\":{\"fillmode\":\"overlay\",\"size\":10,\"solidity\":0.2}},\"type\":\"bar\"}],\"barpolar\":[{\"marker\":{\"line\":{\"color\":\"#E5ECF6\",\"width\":0.5},\"pattern\":{\"fillmode\":\"overlay\",\"size\":10,\"solidity\":0.2}},\"type\":\"barpolar\"}],\"carpet\":[{\"aaxis\":{\"endlinecolor\":\"#2a3f5f\",\"gridcolor\":\"white\",\"linecolor\":\"white\",\"minorgridcolor\":\"white\",\"startlinecolor\":\"#2a3f5f\"},\"baxis\":{\"endlinecolor\":\"#2a3f5f\",\"gridcolor\":\"white\",\"linecolor\":\"white\",\"minorgridcolor\":\"white\",\"startlinecolor\":\"#2a3f5f\"},\"type\":\"carpet\"}],\"choropleth\":[{\"colorbar\":{\"outlinewidth\":0,\"ticks\":\"\"},\"type\":\"choropleth\"}],\"contour\":[{\"colorbar\":{\"outlinewidth\":0,\"ticks\":\"\"},\"colorscale\":[[0.0,\"#0d0887\"],[0.1111111111111111,\"#46039f\"],[0.2222222222222222,\"#7201a8\"],[0.3333333333333333,\"#9c179e\"],[0.4444444444444444,\"#bd3786\"],[0.5555555555555556,\"#d8576b\"],[0.6666666666666666,\"#ed7953\"],[0.7777777777777778,\"#fb9f3a\"],[0.8888888888888888,\"#fdca26\"],[1.0,\"#f0f921\"]],\"type\":\"contour\"}],\"contourcarpet\":[{\"colorbar\":{\"outlinewidth\":0,\"ticks\":\"\"},\"type\":\"contourcarpet\"}],\"heatmap\":[{\"colorbar\":{\"outlinewidth\":0,\"ticks\":\"\"},\"colorscale\":[[0.0,\"#0d0887\"],[0.1111111111111111,\"#46039f\"],[0.2222222222222222,\"#7201a8\"],[0.3333333333333333,\"#9c179e\"],[0.4444444444444444,\"#bd3786\"],[0.5555555555555556,\"#d8576b\"],[0.6666666666666666,\"#ed7953\"],[0.7777777777777778,\"#fb9f3a\"],[0.8888888888888888,\"#fdca26\"],[1.0,\"#f0f921\"]],\"type\":\"heatmap\"}],\"heatmapgl\":[{\"colorbar\":{\"outlinewidth\":0,\"ticks\":\"\"},\"colorscale\":[[0.0,\"#0d0887\"],[0.1111111111111111,\"#46039f\"],[0.2222222222222222,\"#7201a8\"],[0.3333333333333333,\"#9c179e\"],[0.4444444444444444,\"#bd3786\"],[0.5555555555555556,\"#d8576b\"],[0.6666666666666666,\"#ed7953\"],[0.7777777777777778,\"#fb9f3a\"],[0.8888888888888888,\"#fdca26\"],[1.0,\"#f0f921\"]],\"type\":\"heatmapgl\"}],\"histogram\":[{\"marker\":{\"pattern\":{\"fillmode\":\"overlay\",\"size\":10,\"solidity\":0.2}},\"type\":\"histogram\"}],\"histogram2d\":[{\"colorbar\":{\"outlinewidth\":0,\"ticks\":\"\"},\"colorscale\":[[0.0,\"#0d0887\"],[0.1111111111111111,\"#46039f\"],[0.2222222222222222,\"#7201a8\"],[0.3333333333333333,\"#9c179e\"],[0.4444444444444444,\"#bd3786\"],[0.5555555555555556,\"#d8576b\"],[0.6666666666666666,\"#ed7953\"],[0.7777777777777778,\"#fb9f3a\"],[0.8888888888888888,\"#fdca26\"],[1.0,\"#f0f921\"]],\"type\":\"histogram2d\"}],\"histogram2dcontour\":[{\"colorbar\":{\"outlinewidth\":0,\"ticks\":\"\"},\"colorscale\":[[0.0,\"#0d0887\"],[0.1111111111111111,\"#46039f\"],[0.2222222222222222,\"#7201a8\"],[0.3333333333333333,\"#9c179e\"],[0.4444444444444444,\"#bd3786\"],[0.5555555555555556,\"#d8576b\"],[0.6666666666666666,\"#ed7953\"],[0.7777777777777778,\"#fb9f3a\"],[0.8888888888888888,\"#fdca26\"],[1.0,\"#f0f921\"]],\"type\":\"histogram2dcontour\"}],\"mesh3d\":[{\"colorbar\":{\"outlinewidth\":0,\"ticks\":\"\"},\"type\":\"mesh3d\"}],\"parcoords\":[{\"line\":{\"colorbar\":{\"outlinewidth\":0,\"ticks\":\"\"}},\"type\":\"parcoords\"}],\"pie\":[{\"automargin\":true,\"type\":\"pie\"}],\"scatter\":[{\"marker\":{\"colorbar\":{\"outlinewidth\":0,\"ticks\":\"\"}},\"type\":\"scatter\"}],\"scatter3d\":[{\"line\":{\"colorbar\":{\"outlinewidth\":0,\"ticks\":\"\"}},\"marker\":{\"colorbar\":{\"outlinewidth\":0,\"ticks\":\"\"}},\"type\":\"scatter3d\"}],\"scattercarpet\":[{\"marker\":{\"colorbar\":{\"outlinewidth\":0,\"ticks\":\"\"}},\"type\":\"scattercarpet\"}],\"scattergeo\":[{\"marker\":{\"colorbar\":{\"outlinewidth\":0,\"ticks\":\"\"}},\"type\":\"scattergeo\"}],\"scattergl\":[{\"marker\":{\"colorbar\":{\"outlinewidth\":0,\"ticks\":\"\"}},\"type\":\"scattergl\"}],\"scattermapbox\":[{\"marker\":{\"colorbar\":{\"outlinewidth\":0,\"ticks\":\"\"}},\"type\":\"scattermapbox\"}],\"scatterpolar\":[{\"marker\":{\"colorbar\":{\"outlinewidth\":0,\"ticks\":\"\"}},\"type\":\"scatterpolar\"}],\"scatterpolargl\":[{\"marker\":{\"colorbar\":{\"outlinewidth\":0,\"ticks\":\"\"}},\"type\":\"scatterpolargl\"}],\"scatterternary\":[{\"marker\":{\"colorbar\":{\"outlinewidth\":0,\"ticks\":\"\"}},\"type\":\"scatterternary\"}],\"surface\":[{\"colorbar\":{\"outlinewidth\":0,\"ticks\":\"\"},\"colorscale\":[[0.0,\"#0d0887\"],[0.1111111111111111,\"#46039f\"],[0.2222222222222222,\"#7201a8\"],[0.3333333333333333,\"#9c179e\"],[0.4444444444444444,\"#bd3786\"],[0.5555555555555556,\"#d8576b\"],[0.6666666666666666,\"#ed7953\"],[0.7777777777777778,\"#fb9f3a\"],[0.8888888888888888,\"#fdca26\"],[1.0,\"#f0f921\"]],\"type\":\"surface\"}],\"table\":[{\"cells\":{\"fill\":{\"color\":\"#EBF0F8\"},\"line\":{\"color\":\"white\"}},\"header\":{\"fill\":{\"color\":\"#C8D4E3\"},\"line\":{\"color\":\"white\"}},\"type\":\"table\"}]},\"layout\":{\"annotationdefaults\":{\"arrowcolor\":\"#2a3f5f\",\"arrowhead\":0,\"arrowwidth\":1},\"autotypenumbers\":\"strict\",\"coloraxis\":{\"colorbar\":{\"outlinewidth\":0,\"ticks\":\"\"}},\"colorscale\":{\"diverging\":[[0,\"#8e0152\"],[0.1,\"#c51b7d\"],[0.2,\"#de77ae\"],[0.3,\"#f1b6da\"],[0.4,\"#fde0ef\"],[0.5,\"#f7f7f7\"],[0.6,\"#e6f5d0\"],[0.7,\"#b8e186\"],[0.8,\"#7fbc41\"],[0.9,\"#4d9221\"],[1,\"#276419\"]],\"sequential\":[[0.0,\"#0d0887\"],[0.1111111111111111,\"#46039f\"],[0.2222222222222222,\"#7201a8\"],[0.3333333333333333,\"#9c179e\"],[0.4444444444444444,\"#bd3786\"],[0.5555555555555556,\"#d8576b\"],[0.6666666666666666,\"#ed7953\"],[0.7777777777777778,\"#fb9f3a\"],[0.8888888888888888,\"#fdca26\"],[1.0,\"#f0f921\"]],\"sequentialminus\":[[0.0,\"#0d0887\"],[0.1111111111111111,\"#46039f\"],[0.2222222222222222,\"#7201a8\"],[0.3333333333333333,\"#9c179e\"],[0.4444444444444444,\"#bd3786\"],[0.5555555555555556,\"#d8576b\"],[0.6666666666666666,\"#ed7953\"],[0.7777777777777778,\"#fb9f3a\"],[0.8888888888888888,\"#fdca26\"],[1.0,\"#f0f921\"]]},\"colorway\":[\"#636efa\",\"#EF553B\",\"#00cc96\",\"#ab63fa\",\"#FFA15A\",\"#19d3f3\",\"#FF6692\",\"#B6E880\",\"#FF97FF\",\"#FECB52\"],\"font\":{\"color\":\"#2a3f5f\"},\"geo\":{\"bgcolor\":\"white\",\"lakecolor\":\"white\",\"landcolor\":\"#E5ECF6\",\"showlakes\":true,\"showland\":true,\"subunitcolor\":\"white\"},\"hoverlabel\":{\"align\":\"left\"},\"hovermode\":\"closest\",\"mapbox\":{\"style\":\"light\"},\"paper_bgcolor\":\"white\",\"plot_bgcolor\":\"#E5ECF6\",\"polar\":{\"angularaxis\":{\"gridcolor\":\"white\",\"linecolor\":\"white\",\"ticks\":\"\"},\"bgcolor\":\"#E5ECF6\",\"radialaxis\":{\"gridcolor\":\"white\",\"linecolor\":\"white\",\"ticks\":\"\"}},\"scene\":{\"xaxis\":{\"backgroundcolor\":\"#E5ECF6\",\"gridcolor\":\"white\",\"gridwidth\":2,\"linecolor\":\"white\",\"showbackground\":true,\"ticks\":\"\",\"zerolinecolor\":\"white\"},\"yaxis\":{\"backgroundcolor\":\"#E5ECF6\",\"gridcolor\":\"white\",\"gridwidth\":2,\"linecolor\":\"white\",\"showbackground\":true,\"ticks\":\"\",\"zerolinecolor\":\"white\"},\"zaxis\":{\"backgroundcolor\":\"#E5ECF6\",\"gridcolor\":\"white\",\"gridwidth\":2,\"linecolor\":\"white\",\"showbackground\":true,\"ticks\":\"\",\"zerolinecolor\":\"white\"}},\"shapedefaults\":{\"line\":{\"color\":\"#2a3f5f\"}},\"ternary\":{\"aaxis\":{\"gridcolor\":\"white\",\"linecolor\":\"white\",\"ticks\":\"\"},\"baxis\":{\"gridcolor\":\"white\",\"linecolor\":\"white\",\"ticks\":\"\"},\"bgcolor\":\"#E5ECF6\",\"caxis\":{\"gridcolor\":\"white\",\"linecolor\":\"white\",\"ticks\":\"\"}},\"title\":{\"x\":0.05},\"xaxis\":{\"automargin\":true,\"gridcolor\":\"white\",\"linecolor\":\"white\",\"ticks\":\"\",\"title\":{\"standoff\":15},\"zerolinecolor\":\"white\",\"zerolinewidth\":2},\"yaxis\":{\"automargin\":true,\"gridcolor\":\"white\",\"linecolor\":\"white\",\"ticks\":\"\",\"title\":{\"standoff\":15},\"zerolinecolor\":\"white\",\"zerolinewidth\":2}}},\"xaxis\":{\"anchor\":\"y\",\"domain\":[0.0,1.0],\"title\":{\"text\":\"Epochs\"}},\"yaxis\":{\"anchor\":\"x\",\"domain\":[0.0,1.0],\"title\":{\"text\":\"Loss\"}},\"legend\":{\"title\":{\"text\":\"variable\"},\"tracegroupgap\":0},\"title\":{\"text\":\"Training and Validation Loss over Time\"}},                        {\"responsive\": true}                    ).then(function(){\n",
              "                            \n",
              "var gd = document.getElementById('a2c1076c-7df7-41c9-85fd-cf64c0a9cb54');\n",
              "var x = new MutationObserver(function (mutations, observer) {{\n",
              "        var display = window.getComputedStyle(gd).display;\n",
              "        if (!display || display === 'none') {{\n",
              "            console.log([gd, 'removed!']);\n",
              "            Plotly.purge(gd);\n",
              "            observer.disconnect();\n",
              "        }}\n",
              "}});\n",
              "\n",
              "// Listen for the removal of the full notebook cells\n",
              "var notebookContainer = gd.closest('#notebook-container');\n",
              "if (notebookContainer) {{\n",
              "    x.observe(notebookContainer, {childList: true});\n",
              "}}\n",
              "\n",
              "// Listen for the clearing of the current output cell\n",
              "var outputEl = gd.closest('.output');\n",
              "if (outputEl) {{\n",
              "    x.observe(outputEl, {childList: true});\n",
              "}}\n",
              "\n",
              "                        })                };                            </script>        </div>\n",
              "</body>\n",
              "</html>"
            ]
          },
          "metadata": {}
        }
      ]
    },
    {
      "cell_type": "markdown",
      "source": [
        "# Results"
      ],
      "metadata": {
        "id": "5jwJYwp2pVLh"
      }
    },
    {
      "cell_type": "code",
      "source": [
        "y_pred = (model.predict(test_images).squeeze() >= 0.5).astype(int)\n",
        "\n",
        "def evaluate_model(model):\n",
        "    \n",
        "    results = model.evaluate(test_images, verbose=0)\n",
        "    loss = results[0]\n",
        "    acc = results[1]\n",
        "    \n",
        "    print(\"Test Loss: {:.5f}\".format(loss))\n",
        "    print(\"Accuracy: {:.2f}%\".format(acc * 100))\n",
        "    \n",
        "    cm = confusion_matrix(test_images.labels, y_pred)\n",
        "    clr = classification_report(test_images.labels, y_pred, target_names=[\"NEGATIVE\", \"POSITIVE\"])\n",
        "    \n",
        "    plt.figure(figsize=(6, 6))\n",
        "    sns.heatmap(cm, annot=True, fmt='g', vmin=0, cmap='Blues', cbar=False)\n",
        "    plt.xticks(ticks=np.arange(2) + 0.5, labels=[\"NEGATIVE\", \"POSITIVE\"])\n",
        "    plt.yticks(ticks=np.arange(2) + 0.5, labels=[\"NEGATIVE\", \"POSITIVE\"])\n",
        "    plt.xlabel(\"Predicted\")\n",
        "    plt.ylabel(\"Actual\")\n",
        "    plt.show()\n",
        "    \n",
        "    print(\"Classification Report:\\n------------------------------\\n\", clr)"
      ],
      "metadata": {
        "execution": {
          "iopub.status.busy": "2022-10-22T09:15:08.049241Z",
          "iopub.execute_input": "2022-10-22T09:15:08.049633Z",
          "iopub.status.idle": "2022-10-22T09:15:20.243659Z",
          "shell.execute_reply.started": "2022-10-22T09:15:08.049597Z",
          "shell.execute_reply": "2022-10-22T09:15:20.242701Z"
        },
        "trusted": true,
        "colab": {
          "base_uri": "https://localhost:8080/"
        },
        "id": "TUNVqXqLpVLh",
        "outputId": "8135d929-b863-43bf-f30c-06eed1228875"
      },
      "execution_count": 68,
      "outputs": [
        {
          "output_type": "stream",
          "name": "stdout",
          "text": [
            "7/7 [==============================] - 1s 63ms/step\n"
          ]
        }
      ]
    },
    {
      "cell_type": "code",
      "source": [
        "evaluate_model(model)"
      ],
      "metadata": {
        "execution": {
          "iopub.status.busy": "2022-10-22T09:15:20.245289Z",
          "iopub.execute_input": "2022-10-22T09:15:20.245722Z",
          "iopub.status.idle": "2022-10-22T09:15:24.603631Z",
          "shell.execute_reply.started": "2022-10-22T09:15:20.245685Z",
          "shell.execute_reply": "2022-10-22T09:15:24.602706Z"
        },
        "trusted": true,
        "colab": {
          "base_uri": "https://localhost:8080/",
          "height": 614
        },
        "id": "nK29X5wcpVLh",
        "outputId": "0ef88bae-0299-4711-ec9a-344028302337"
      },
      "execution_count": 69,
      "outputs": [
        {
          "output_type": "stream",
          "name": "stdout",
          "text": [
            "Test Loss: 0.56090\n",
            "Accuracy: 77.50%\n"
          ]
        },
        {
          "output_type": "display_data",
          "data": {
            "text/plain": [
              "<Figure size 432x432 with 1 Axes>"
            ],
            "image/png": "[encoded data removed]"
          },
          "metadata": {
            "needs_background": "light"
          }
        },
        {
          "output_type": "stream",
          "name": "stdout",
          "text": [
            "Classification Report:\n",
            "------------------------------\n",
            "               precision    recall  f1-score   support\n",
            "\n",
            "    NEGATIVE       0.69      1.00      0.82       100\n",
            "    POSITIVE       1.00      0.55      0.71       100\n",
            "\n",
            "    accuracy                           0.78       200\n",
            "   macro avg       0.84      0.78      0.76       200\n",
            "weighted avg       0.84      0.78      0.76       200\n",
            "\n"
          ]
        }
      ]
    }
  ]
}